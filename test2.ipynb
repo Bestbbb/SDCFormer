{
 "cells": [
  {
   "cell_type": "code",
   "execution_count": 11,
   "metadata": {
    "collapsed": true
   },
   "outputs": [
    {
     "name": "stdout",
     "output_type": "stream",
     "text": [
      "torch.Size([32, 96, 512])\n",
      "torch.Size([32, 8, 64, 96])\n",
      "torch.Size([32, 8, 64, 96])\n",
      "torch.return_types.topk(\n",
      "values=tensor([0.3500, 0.3340, 0.3199, 0.2826, 0.2758, 0.2675, 0.2629, 0.2609, 0.2417,\n",
      "        0.2307, 0.2209, 0.2158, 0.2111]),\n",
      "indices=tensor([28, 62, 42, 72,  7,  8, 66, 10, 18, 36, 21, 60, 75]))\n"
     ]
    }
   ],
   "source": [
    "import torch\n",
    "import torch.nn as nn\n",
    "import pytorch_lightning as pl\n",
    "import numpy as np\n",
    "\n",
    "x = torch.randn(32, 96, 512)\n",
    "\n",
    "\n",
    "class myLinear(nn.Module):\n",
    "    def __init__(self):\n",
    "        super(myLinear, self).__init__()\n",
    "        self.linear = nn.Linear(512, 512)\n",
    "\n",
    "    def forward(self,x):\n",
    "        y = self.linear(x)\n",
    "        return y\n",
    "\n",
    "\n",
    "model = myLinear()\n",
    "x_out = model(x)\n",
    "\n",
    "print(x_out.shape)\n",
    "\n",
    "queries = torch.ones(32,96,8,64)\n",
    "a = queries.permute(0, 2, 3, 1).contiguous()\n",
    "q_fft = torch.fft.rfft(a, dim=-1)\n",
    "q2_fft = torch.fft.fft(a, dim=-1)\n",
    "q2 = torch.fft.ifft(q2_fft,dim=-1)\n",
    "q = torch.fft.irfft(q_fft,dim=-1)\n",
    "print(q.shape)\n",
    "print(q2.shape)\n",
    "mean_value= torch.randn(32,96)\n",
    "index = torch.topk(torch.mean(mean_value, dim=0), 13, dim=-1)\n",
    "print(index)\n",
    "# weights = torch.stack([mean_value[:, index[i]] for i in range(13)], dim=-1)\n",
    "# result = torch.softmax(weights,dim=-1)\n",
    "# sum = torch.sum(result,dim=-1,keepdim=True)\n",
    "# print(sum.shape)"
   ]
  },
  {
   "cell_type": "code",
   "execution_count": null,
   "outputs": [],
   "source": [],
   "metadata": {
    "collapsed": false
   }
  },
  {
   "cell_type": "code",
   "execution_count": 2,
   "outputs": [
    {
     "name": "stdout",
     "output_type": "stream",
     "text": [
      "before roll tensor([[1, 2, 3],\n",
      "        [4, 5, 6],\n",
      "        [7, 8, 9]], dtype=torch.int32)\n",
      "after roll tensor([[7, 8, 9],\n",
      "        [1, 2, 3],\n",
      "        [4, 5, 6]], dtype=torch.int32)\n"
     ]
    }
   ],
   "source": [
    "x = np.array([[1, 2, 3],\n",
    "              [4, 5, 6],\n",
    "              [7, 8, 9]])\n",
    "x = torch.from_numpy(x)\n",
    "print('before roll', x)\n",
    "x = torch.roll(x, 3)\n",
    "print('after roll', x)\n",
    "\n"
   ],
   "metadata": {
    "collapsed": false
   }
  },
  {
   "cell_type": "code",
   "execution_count": 3,
   "outputs": [
    {
     "name": "stdout",
     "output_type": "stream",
     "text": [
      "before roll tensor([[1, 2, 3],\n",
      "        [4, 5, 6],\n",
      "        [7, 8, 9]], dtype=torch.int32)\n",
      "after roll tensor([[7, 8, 9],\n",
      "        [1, 2, 3],\n",
      "        [4, 5, 6]], dtype=torch.int32)\n"
     ]
    }
   ],
   "source": [
    "\n",
    "x = np.array([[1, 2, 3],\n",
    "              [4, 5, 6],\n",
    "              [7, 8, 9]])\n",
    "x = torch.from_numpy(x)\n",
    "print('before roll', x)\n",
    "x = torch.roll(x, 1, dims=0)\n",
    "print('after roll', x)\n"
   ],
   "metadata": {
    "collapsed": false
   }
  },
  {
   "cell_type": "code",
   "execution_count": 4,
   "outputs": [
    {
     "name": "stdout",
     "output_type": "stream",
     "text": [
      "before roll tensor([[1, 2, 3],\n",
      "        [4, 5, 6],\n",
      "        [7, 8, 9]], dtype=torch.int32)\n",
      "after roll tensor([[2, 3, 1],\n",
      "        [5, 6, 4],\n",
      "        [8, 9, 7]], dtype=torch.int32)\n"
     ]
    }
   ],
   "source": [
    "x = np.array([[1, 2, 3],\n",
    "              [4, 5, 6],\n",
    "              [7, 8, 9]])\n",
    "x = torch.from_numpy(x)\n",
    "print('before roll', x)\n",
    "x = torch.roll(x, -1, dims=1)\n",
    "print('after roll', x)"
   ],
   "metadata": {
    "collapsed": false
   }
  },
  {
   "cell_type": "code",
   "execution_count": 5,
   "outputs": [
    {
     "name": "stdout",
     "output_type": "stream",
     "text": [
      "before roll tensor([[1, 2, 3],\n",
      "        [4, 5, 6],\n",
      "        [7, 8, 9]], dtype=torch.int32)\n",
      "after roll tensor([[9, 7, 8],\n",
      "        [3, 1, 2],\n",
      "        [6, 4, 5]], dtype=torch.int32)\n"
     ]
    }
   ],
   "source": [
    "x = np.array([[1, 2, 3],\n",
    "              [4, 5, 6],\n",
    "              [7, 8, 9]])\n",
    "x = torch.from_numpy(x)\n",
    "print('before roll', x)\n",
    "x = torch.roll(x, (1, 1), dims=(0,1))\n",
    "print('after roll', x)\n"
   ],
   "metadata": {
    "collapsed": false
   }
  },
  {
   "cell_type": "code",
   "execution_count": 6,
   "outputs": [
    {
     "name": "stdout",
     "output_type": "stream",
     "text": [
      "torch.Size([32, 1, 1, 1])\n"
     ]
    }
   ],
   "source": [
    "tm_corr = torch.ones(32,13)\n",
    "print(tm_corr[:, 1].unsqueeze(1).unsqueeze(1).unsqueeze(1).shape)"
   ],
   "metadata": {
    "collapsed": false
   }
  }
 ],
 "metadata": {
  "kernelspec": {
   "display_name": "Python 3",
   "language": "python",
   "name": "python3"
  },
  "language_info": {
   "codemirror_mode": {
    "name": "ipython",
    "version": 2
   },
   "file_extension": ".py",
   "mimetype": "text/x-python",
   "name": "python",
   "nbconvert_exporter": "python",
   "pygments_lexer": "ipython2",
   "version": "2.7.6"
  }
 },
 "nbformat": 4,
 "nbformat_minor": 0
}
